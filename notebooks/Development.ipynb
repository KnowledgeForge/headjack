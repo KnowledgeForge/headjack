{
 "cells": [
  {
   "cell_type": "code",
   "execution_count": 1,
   "id": "2eed8512-0c12-4240-aa9b-aa1b79d9870a",
   "metadata": {
    "tags": []
   },
   "outputs": [
    {
     "name": "stderr",
     "output_type": "stream",
     "text": [
      "<jemalloc>: MADV_DONTNEED does not work (memset will be used instead)\n",
      "<jemalloc>: (This is the expected behaviour if you are running under QEMU)\n"
     ]
    }
   ],
   "source": [
    "from headjack_server.config import get_headjack_collection"
   ]
  },
  {
   "cell_type": "code",
   "execution_count": null,
   "id": "33ff64b3-57db-4477-b8e4-c646a8923bec",
   "metadata": {},
   "outputs": [],
   "source": [
    "headjack = get_headjack_collection()"
   ]
  }
 ],
 "metadata": {
  "kernelspec": {
   "display_name": "Python 3 (ipykernel)",
   "language": "python",
   "name": "python3"
  },
  "language_info": {
   "codemirror_mode": {
    "name": "ipython",
    "version": 3
   },
   "file_extension": ".py",
   "mimetype": "text/x-python",
   "name": "python",
   "nbconvert_exporter": "python",
   "pygments_lexer": "ipython3",
   "version": "3.10.10"
  }
 },
 "nbformat": 4,
 "nbformat_minor": 5
}
